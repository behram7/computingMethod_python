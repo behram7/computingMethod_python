{
 "cells": [
  {
   "cell_type": "code",
   "execution_count": 5,
   "metadata": {},
   "outputs": [
    {
     "name": "stdout",
     "output_type": "stream",
     "text": [
      "The lower boundary is a, is 0.75 and the upper boundary b,is 0.78125\n"
     ]
    }
   ],
   "source": [
    "def bisction_method(func,a,b,error_accept):\n",
    "\n",
    "    def f(x):\n",
    "        f=eval(func)\n",
    "        return f\n",
    "\n",
    "    error=abs(b-a)\n",
    "\n",
    "    while error>error_accept:\n",
    "\n",
    "        c=abs(a+b)/2\n",
    "\n",
    "        if f(a)*f(b)>=0:\n",
    "            print(\"There is no root\")\n",
    "            quit()\n",
    "\n",
    "        elif f(a)*f(c)<0:\n",
    "            b=c\n",
    "            error=abs(b-a)\n",
    "\n",
    "            \n",
    "        elif f(b)*f(c)<0:\n",
    "            a=c\n",
    "            error=abs(b-a)\n",
    "\n",
    "        else:\n",
    "            print(f\"something went wrong\")\n",
    "    print(f\"something went wrong{error}\")\n",
    "    print(f\"The lower boundary is a, is {a} and the upper boundary b,is {b}\")\n",
    "\n",
    "bisction_method(\"(4*x**3)+ 3*x - 4\",0,1,0.05)\n"
   ]
  },
  {
   "cell_type": "code",
   "execution_count": null,
   "metadata": {},
   "outputs": [],
   "source": []
  }
 ],
 "metadata": {
  "kernelspec": {
   "display_name": "Python 3",
   "language": "python",
   "name": "python3"
  },
  "language_info": {
   "codemirror_mode": {
    "name": "ipython",
    "version": 3
   },
   "file_extension": ".py",
   "mimetype": "text/x-python",
   "name": "python",
   "nbconvert_exporter": "python",
   "pygments_lexer": "ipython3",
   "version": "3.12.4"
  }
 },
 "nbformat": 4,
 "nbformat_minor": 2
}
